{
  "nbformat": 4,
  "nbformat_minor": 0,
  "metadata": {
    "colab": {
      "provenance": [],
      "mount_file_id": "1YavZ7UmFBnaozWz-74MbjWAI5Q994wdT",
      "authorship_tag": "ABX9TyPQrKeWPgjKfJ5G9l2a+Qp0",
      "include_colab_link": true
    },
    "kernelspec": {
      "name": "python3",
      "display_name": "Python 3"
    },
    "language_info": {
      "name": "python"
    }
  },
  "cells": [
    {
      "cell_type": "markdown",
      "metadata": {
        "id": "view-in-github",
        "colab_type": "text"
      },
      "source": [
        "<a href=\"https://colab.research.google.com/github/g-aditi/moral-compass/blob/Nihaarika/Moral_Compass_VectorDB.ipynb\" target=\"_parent\"><img src=\"https://colab.research.google.com/assets/colab-badge.svg\" alt=\"Open In Colab\"/></a>"
      ]
    },
    {
      "cell_type": "code",
      "execution_count": 1,
      "metadata": {
        "colab": {
          "base_uri": "https://localhost:8080/"
        },
        "id": "ldGtbszvht7K",
        "outputId": "50307bd5-3e72-495b-9783-34b8a57689ae"
      },
      "outputs": [
        {
          "output_type": "stream",
          "name": "stdout",
          "text": [
            "Collecting PyPDF2\n",
            "  Downloading pypdf2-3.0.1-py3-none-any.whl.metadata (6.8 kB)\n",
            "Downloading pypdf2-3.0.1-py3-none-any.whl (232 kB)\n",
            "\u001b[2K   \u001b[90m━━━━━━━━━━━━━━━━━━━━━━━━━━━━━━━━━━━━━━━━\u001b[0m \u001b[32m232.6/232.6 kB\u001b[0m \u001b[31m3.5 MB/s\u001b[0m eta \u001b[36m0:00:00\u001b[0m\n",
            "\u001b[?25hInstalling collected packages: PyPDF2\n",
            "Successfully installed PyPDF2-3.0.1\n"
          ]
        }
      ],
      "source": [
        "pip install PyPDF2"
      ]
    },
    {
      "cell_type": "code",
      "source": [
        "import PyPDF2\n",
        "import pandas as pd\n",
        "import numpy as np\n",
        "import os\n",
        "from gensim.models.doc2vec import Doc2Vec, TaggedDocument\n",
        "from nltk.tokenize import word_tokenize\n",
        "import nltk\n",
        "nltk.download('punkt')"
      ],
      "metadata": {
        "colab": {
          "base_uri": "https://localhost:8080/"
        },
        "id": "mZ-EFUX7i4zm",
        "outputId": "68029c6e-526e-4b88-abb6-9f3d7c4c905b"
      },
      "execution_count": 2,
      "outputs": [
        {
          "output_type": "stream",
          "name": "stderr",
          "text": [
            "[nltk_data] Downloading package punkt to /root/nltk_data...\n",
            "[nltk_data]   Unzipping tokenizers/punkt.zip.\n"
          ]
        },
        {
          "output_type": "execute_result",
          "data": {
            "text/plain": [
              "True"
            ]
          },
          "metadata": {},
          "execution_count": 2
        }
      ]
    },
    {
      "cell_type": "code",
      "source": [
        "def pdf_to_text(pdf_data_directory, txt_data_directory):\n",
        "    # Converting pdf version paper to txt file\n",
        "\n",
        "    if not os.path.exists(txt_data_directory):\n",
        "        os.makedirs(txt_data_directory)\n",
        "\n",
        "    for pdf_filename in os.listdir(pdf_data_directory):\n",
        "\n",
        "        if pdf_filename.endswith(\".pdf\"):\n",
        "\n",
        "            pdf_path = os.path.join(pdf_data_directory, pdf_filename)\n",
        "            #checkpoint\n",
        "            print (pdf_filename)\n",
        "            txt_filename = os.path.splitext(pdf_filename)[0] + \".txt\"\n",
        "            txt_path = os.path.join(txt_data_directory, txt_filename)\n",
        "\n",
        "            with open(pdf_path, \"rb\") as pdf_file:\n",
        "                pdf_reader = PyPDF2.PdfReader(pdf_file)\n",
        "                text = \"\"\n",
        "                for page_num in range(len(pdf_reader.pages)):\n",
        "                    page = pdf_reader.pages[page_num]\n",
        "                    text += page.extract_text()\n",
        "\n",
        "                with open(txt_path, \"w\", encoding=\"utf-8\") as txt_file:\n",
        "                    txt_file.write(text)\n",
        "\n",
        "pdf_data_directory = \"/content/sample_data/MoralCompass_Papers_VDB_pdf\"\n",
        "txt_data_directory = \"/content/sample_data/MoralCompass_Papers_VDB_txt\"\n",
        "pdf_to_text(pdf_data_directory, txt_data_directory)\n",
        "\n"
      ],
      "metadata": {
        "colab": {
          "base_uri": "https://localhost:8080/"
        },
        "id": "TvIhJ5emjSZ3",
        "outputId": "a13915f6-0fb5-4091-803c-47c93f53bb05"
      },
      "execution_count": 6,
      "outputs": [
        {
          "output_type": "stream",
          "name": "stdout",
          "text": [
            "466535.pdf\n",
            "Human Subject Regulations Decision Charts_ Pre-2018 Requirements _ HHS.gov.pdf\n",
            "Subpart D — Additional Protections for Children Involved _ HHS.gov.pdf\n",
            "32843821.pdf\n",
            "Single IRB Exception Determinations _ HHS.gov.pdf\n",
            "Exemptions (2018 Requirements) _ HHS.gov.pdf\n",
            "Annotated Comparison of the Pre-2018 Common Rule with _ HHS.gov.pdf\n",
            "Revised Common Rule _ HHS.gov.pdf\n",
            "Subpart E — Registration of Institutional Review Boards _ HHS.gov.pdf\n",
            "Terminology _ HHS.gov.pdf\n",
            "October 8, 2020_ Exception to the Single IRB Review Requirements _ HHS.gov.pdf\n",
            "OHRP Expedited Review Categories (1998) _ HHS.gov.pdf\n",
            "Procedures-for-HSR-2022.pdf\n",
            "Pre-2018 Requirements _ HHS.gov.pdf\n",
            "the-belmont-report-508c_FINAL.pdf\n",
            "eCFR __ 45 CFR Part 46 (July 19, 2018) -- Protection of Human Subjects.pdf\n",
            "Subpart C — Additional Protections Pertaining to Biomedical and B _ HHS.gov.pdf\n",
            "November 21, 2019_ Determination of Exception for Certain HHS _ HHS.gov.pdf\n",
            "Excerpts from the January 19, 2017 Revised Common Rule Preamble _ HHS.gov.pdf\n",
            "Subpart B - Additional Protections for Pregnant Women, Human _ HHS.gov.pdf\n",
            "Human Subject Regulations Decision Charts_ 2018 Requirements _ HHS.gov.pdf\n"
          ]
        }
      ]
    },
    {
      "cell_type": "code",
      "source": [
        "# training a document vectorizer model\n",
        "\n",
        "txt_data_directory = \"/content/sample_data/MoralCompass_Papers_VDB_txt\"\n",
        "txt_file_paths = [os.path.join(txt_data_directory, file) for file in os.listdir(txt_data_directory) if file.endswith('.txt')]\n",
        "tagged_data = []\n",
        "for i, txt_file_path in enumerate(txt_file_paths):\n",
        "    with open(txt_file_path, 'r', encoding='utf-8') as file:\n",
        "         text = file.read()\n",
        "         words = word_tokenize(text)\n",
        "         words = [word.lower() for word in words]\n",
        "         tagged_data.append(TaggedDocument(words, tags=['doc_' + str(i)]))\n",
        "model = Doc2Vec(vector_size=20, epochs=300)\n",
        "model.build_vocab(tagged_data)\n",
        "model.train(tagged_data, total_examples=model.corpus_count, epochs=model.epochs)\n",
        "\n",
        "document_vectors = [model.dv['doc_' + str(i)] for i in range(len(tagged_data))]\n",
        "#checkpoint\n",
        "print (document_vectors)"
      ],
      "metadata": {
        "colab": {
          "base_uri": "https://localhost:8080/"
        },
        "id": "ZcYJ9tAC0laj",
        "outputId": "7d390e09-e974-4a65-f3ef-b12841671a27"
      },
      "execution_count": 7,
      "outputs": [
        {
          "output_type": "stream",
          "name": "stdout",
          "text": [
            "[array([-5.5733156 , -5.109174  , -0.8917723 ,  2.4881642 ,  3.1329553 ,\n",
            "       -1.2328875 , -1.9686515 , -6.134225  ,  0.0560947 , -2.5560877 ,\n",
            "        4.48137   , -0.48160103, -2.0046444 ,  1.6887807 ,  0.0429637 ,\n",
            "        2.192132  ,  0.74103373,  1.3238579 , -6.109742  , -1.253444  ],\n",
            "      dtype=float32), array([-3.1306145 ,  0.09271465, -2.837216  , -0.23501016,  2.9095986 ,\n",
            "        0.7481839 , -2.8151186 , -3.9100726 , -0.5079803 ,  0.09291416,\n",
            "        6.1484165 , -0.5595097 , -3.3624754 , -3.1028783 , -0.17693613,\n",
            "        3.2351182 ,  3.3627305 ,  2.2587385 , -4.956069  ,  1.3461589 ],\n",
            "      dtype=float32), array([-2.789852  , -1.8020542 , -0.6309695 ,  1.2294955 ,  3.7705462 ,\n",
            "       -2.071355  , -3.47569   , -0.08491134,  2.0683408 ,  2.089196  ,\n",
            "        3.9341106 ,  2.2231023 , -3.123347  , -2.5251372 , -0.7414659 ,\n",
            "        4.404957  ,  1.8728417 ,  1.2577014 , -3.9513881 ,  2.6858404 ],\n",
            "      dtype=float32), array([-0.35748017,  3.5727274 ,  3.1266825 ,  3.7969193 ,  3.8740528 ,\n",
            "       -5.5927033 , -2.4284692 , -0.68092096, -1.598792  , -4.1556525 ,\n",
            "       -3.044096  ,  1.5632838 , -5.166164  , -0.4639474 , -2.843495  ,\n",
            "        0.30226442, -1.3923981 , -3.6346095 ,  0.08238897,  4.142978  ],\n",
            "      dtype=float32), array([-3.4094367 , -1.5973264 , -0.52134556, -0.1266937 , -0.41738048,\n",
            "       -6.171301  , -7.049511  ,  2.8502476 ,  3.9678004 , -2.7352839 ,\n",
            "       -0.3039112 ,  6.92062   , -4.5707393 ,  1.0160968 ,  2.2298272 ,\n",
            "        3.8329632 ,  1.2920357 , -3.1734118 ,  2.3312733 , -2.715975  ],\n",
            "      dtype=float32), array([-3.5807476 , -4.322942  , -0.6699464 , -3.8174126 , -4.3659825 ,\n",
            "       -1.2329475 ,  0.14608599,  6.2554083 ,  7.486296  , -4.1381965 ,\n",
            "       -2.457448  ,  8.157373  , -2.075443  , -3.4809396 ,  3.8670468 ,\n",
            "       -4.7838154 ,  7.5407314 , -0.16348368, -4.546178  ,  0.8708359 ],\n",
            "      dtype=float32), array([-3.0520463 , -3.3485174 , -0.48115322, -1.3741704 , -1.2511593 ,\n",
            "       -4.039963  ,  0.9031133 ,  0.39633572,  1.6753145 , -3.7458196 ,\n",
            "       -1.0202459 ,  5.390566  ,  0.01088524, -0.21908152,  1.9987104 ,\n",
            "        0.3763935 ,  6.8631387 ,  0.75054413, -4.984176  , -3.5833752 ],\n",
            "      dtype=float32), array([-1.8761506 ,  1.2972157 , -0.32800192, -0.3175048 , -0.5614451 ,\n",
            "       -6.836955  , -6.14159   ,  3.0574877 ,  2.2713695 , -1.9027108 ,\n",
            "       -0.8555324 ,  7.482647  , -4.5936294 ,  0.13304089, -0.31196508,\n",
            "        4.6566525 ,  1.379737  , -4.6694508 ,  2.2411866 , -0.94046295],\n",
            "      dtype=float32), array([-3.5938148 ,  6.2123384 , -1.6472096 ,  9.794612  ,  0.23391464,\n",
            "       -6.7561455 , -0.31429917, -4.9745708 , -9.17443   , -6.4258523 ,\n",
            "        0.35927916, -1.0974686 , -9.312364  ,  0.27098632, -0.15200394,\n",
            "       -7.0508094 ,  5.7124004 , -1.9905401 , -7.1176343 , 11.418963  ],\n",
            "      dtype=float32), array([-3.2916698 , -2.85791   ,  1.60097   ,  3.1337976 ,  2.4501743 ,\n",
            "       -2.8363614 , -3.4680874 , -2.6654315 ,  1.3080987 , -3.4378803 ,\n",
            "        3.0893462 ,  1.9209726 , -2.0021899 ,  0.8373732 , -0.2077706 ,\n",
            "        0.90441996,  0.75225925, -0.4478116 , -2.0462124 , -0.91200846],\n",
            "      dtype=float32), array([-2.6218524 , -3.0691116 ,  0.27523625,  1.7081391 ,  2.6469185 ,\n",
            "       -2.398259  , -0.998578  , -3.634956  ,  1.5129298 , -2.5418854 ,\n",
            "        3.4363737 ,  1.6054693 , -0.6761239 , -0.01003032,  1.3809721 ,\n",
            "        0.9234599 ,  0.5562829 ,  0.2336387 , -3.4508302 , -1.6521908 ],\n",
            "      dtype=float32), array([-3.3282654e+00, -2.2622187e+00, -1.7069316e+00,  5.7868493e-01,\n",
            "        3.0676968e+00, -5.0612509e-01, -2.5030727e+00, -3.7089648e+00,\n",
            "        5.9945516e-02, -3.9873791e-01,  5.5201859e+00,  6.2886298e-01,\n",
            "       -1.9978195e+00, -1.1878128e+00, -1.7358570e-03,  3.2632263e+00,\n",
            "        1.5171907e+00,  1.4660565e+00, -4.5662470e+00,  4.1305378e-01],\n",
            "      dtype=float32), array([-4.520313  , -5.2483773 , -0.81139916, -1.2289321 , -2.6308649 ,\n",
            "       -1.4914193 , -0.1423738 ,  1.8280827 ,  5.690732  , -4.6819816 ,\n",
            "       -0.36723253,  4.4453654 , -2.2834337 , -1.5166671 ,  3.3757446 ,\n",
            "       -1.4431952 ,  5.2394347 , -0.8657201 , -3.9409041 , -0.18836448],\n",
            "      dtype=float32), array([-3.8203328 , -1.447682  , -3.0538318 , -0.58981115,  1.6060694 ,\n",
            "       -0.38093552, -4.5607557 , -3.2656646 ,  0.8126497 ,  0.4041857 ,\n",
            "        6.48864   ,  0.6274728 , -3.1684484 , -2.0223029 , -0.5908966 ,\n",
            "        4.6147094 ,  2.614437  ,  1.7940179 , -4.726507  ,  1.2384729 ],\n",
            "      dtype=float32), array([-1.5835388 ,  5.436384  ,  2.1230824 ,  1.2036676 ,  3.6491833 ,\n",
            "       -5.6760054 , -1.6418777 , -0.25172922, -0.22971039, -2.4990413 ,\n",
            "       -4.526864  ,  6.1059456 , -4.8144574 ,  0.60770524, -1.9281253 ,\n",
            "        1.0334266 ,  0.76381004,  0.35931268, -0.9188299 ,  5.6507926 ],\n",
            "      dtype=float32), array([ 3.855691  ,  3.081499  , -0.65767485,  0.05510728,  1.3540094 ,\n",
            "       -3.5904126 , -0.74796855,  4.2355075 ,  3.0973516 , -2.517174  ,\n",
            "        3.1466157 ,  4.180651  ,  1.0206274 , -5.1204247 ,  4.82568   ,\n",
            "       -4.6115046 ,  1.469067  , -0.6788812 , -1.4213406 , -6.147696  ],\n",
            "      dtype=float32), array([-0.26830375,  1.4875557 ,  2.887929  , -4.352473  , -2.3665943 ,\n",
            "       -0.78132534,  2.2534087 ,  3.6620061 ,  5.6978364 , -2.537165  ,\n",
            "        1.4914883 ,  7.1096153 , -1.4229044 , -3.7327178 ,  2.7777054 ,\n",
            "       -4.6473436 ,  2.1265566 , -1.0843427 , -5.9939423 , -5.507572  ],\n",
            "      dtype=float32), array([-3.7246532 , -0.9895171 , -2.8710887 ,  0.5952051 ,  2.6103024 ,\n",
            "        0.07649682, -4.8433204 , -4.6292305 ,  1.5627149 , -0.7060317 ,\n",
            "        7.1265144 , -0.21537592, -2.4295135 , -2.033262  , -1.2836308 ,\n",
            "        4.2815247 ,  1.6051317 ,  3.5241628 , -5.2423515 ,  0.24654002],\n",
            "      dtype=float32), array([ 2.1893954 ,  6.8103924 , -2.0730517 , -1.8049265 ,  1.4963558 ,\n",
            "        2.2264514 , -4.1788435 , -2.1306455 , -5.3465056 , -0.40136412,\n",
            "       -2.70792   , -4.9629335 , -9.616476  , -7.719899  ,  3.6472106 ,\n",
            "       -1.2684354 ,  8.192857  , -2.0397363 , -6.316695  , -0.58057386],\n",
            "      dtype=float32), array([-0.8262255 ,  2.882858  ,  1.0870076 ,  1.8877019 ,  0.96988064,\n",
            "       -1.5347605 , -3.5562685 ,  0.20186235,  1.9031181 , -3.643507  ,\n",
            "       -0.18192145,  2.4942937 , -2.9768255 , -1.3906236 , -2.453001  ,\n",
            "        2.192638  ,  0.34244007, -2.3935654 , -0.82929957,  1.874729  ],\n",
            "      dtype=float32), array([-1.4870933 , -3.1071062 , -1.849152  , -2.2236369 , -3.2144067 ,\n",
            "       -0.7952619 ,  0.912298  ,  4.2561836 ,  5.0062585 , -3.8670914 ,\n",
            "       -0.18755943,  7.4352617 , -0.6740808 , -2.1767478 ,  2.653681  ,\n",
            "       -2.5937457 ,  5.9437385 , -2.7580082 , -4.114119  ,  0.28843665],\n",
            "      dtype=float32)]\n"
          ]
        }
      ]
    },
    {
      "cell_type": "code",
      "source": [
        "!pip install pandas sentence-transformers pandarallel faiss-cpu\n",
        "\n"
      ],
      "metadata": {
        "colab": {
          "base_uri": "https://localhost:8080/"
        },
        "id": "XjjMLVGA3rOD",
        "outputId": "4f384146-5384-4420-ccd8-dde32929deca"
      },
      "execution_count": 8,
      "outputs": [
        {
          "output_type": "stream",
          "name": "stdout",
          "text": [
            "Requirement already satisfied: pandas in /usr/local/lib/python3.10/dist-packages (2.2.2)\n",
            "Collecting sentence-transformers\n",
            "  Downloading sentence_transformers-3.2.0-py3-none-any.whl.metadata (10 kB)\n",
            "Collecting pandarallel\n",
            "  Downloading pandarallel-1.6.5.tar.gz (14 kB)\n",
            "  Preparing metadata (setup.py) ... \u001b[?25l\u001b[?25hdone\n",
            "Collecting faiss-cpu\n",
            "  Downloading faiss_cpu-1.9.0-cp310-cp310-manylinux_2_17_x86_64.manylinux2014_x86_64.whl.metadata (4.4 kB)\n",
            "Requirement already satisfied: numpy>=1.22.4 in /usr/local/lib/python3.10/dist-packages (from pandas) (1.26.4)\n",
            "Requirement already satisfied: python-dateutil>=2.8.2 in /usr/local/lib/python3.10/dist-packages (from pandas) (2.8.2)\n",
            "Requirement already satisfied: pytz>=2020.1 in /usr/local/lib/python3.10/dist-packages (from pandas) (2024.2)\n",
            "Requirement already satisfied: tzdata>=2022.7 in /usr/local/lib/python3.10/dist-packages (from pandas) (2024.2)\n",
            "Requirement already satisfied: transformers<5.0.0,>=4.41.0 in /usr/local/lib/python3.10/dist-packages (from sentence-transformers) (4.44.2)\n",
            "Requirement already satisfied: tqdm in /usr/local/lib/python3.10/dist-packages (from sentence-transformers) (4.66.5)\n",
            "Requirement already satisfied: torch>=1.11.0 in /usr/local/lib/python3.10/dist-packages (from sentence-transformers) (2.4.1+cu121)\n",
            "Requirement already satisfied: scikit-learn in /usr/local/lib/python3.10/dist-packages (from sentence-transformers) (1.5.2)\n",
            "Requirement already satisfied: scipy in /usr/local/lib/python3.10/dist-packages (from sentence-transformers) (1.13.1)\n",
            "Requirement already satisfied: huggingface-hub>=0.20.0 in /usr/local/lib/python3.10/dist-packages (from sentence-transformers) (0.24.7)\n",
            "Requirement already satisfied: Pillow in /usr/local/lib/python3.10/dist-packages (from sentence-transformers) (10.4.0)\n",
            "Collecting dill>=0.3.1 (from pandarallel)\n",
            "  Downloading dill-0.3.9-py3-none-any.whl.metadata (10 kB)\n",
            "Requirement already satisfied: psutil in /usr/local/lib/python3.10/dist-packages (from pandarallel) (5.9.5)\n",
            "Requirement already satisfied: packaging in /usr/local/lib/python3.10/dist-packages (from faiss-cpu) (24.1)\n",
            "Requirement already satisfied: filelock in /usr/local/lib/python3.10/dist-packages (from huggingface-hub>=0.20.0->sentence-transformers) (3.16.1)\n",
            "Requirement already satisfied: fsspec>=2023.5.0 in /usr/local/lib/python3.10/dist-packages (from huggingface-hub>=0.20.0->sentence-transformers) (2024.6.1)\n",
            "Requirement already satisfied: pyyaml>=5.1 in /usr/local/lib/python3.10/dist-packages (from huggingface-hub>=0.20.0->sentence-transformers) (6.0.2)\n",
            "Requirement already satisfied: requests in /usr/local/lib/python3.10/dist-packages (from huggingface-hub>=0.20.0->sentence-transformers) (2.32.3)\n",
            "Requirement already satisfied: typing-extensions>=3.7.4.3 in /usr/local/lib/python3.10/dist-packages (from huggingface-hub>=0.20.0->sentence-transformers) (4.12.2)\n",
            "Requirement already satisfied: six>=1.5 in /usr/local/lib/python3.10/dist-packages (from python-dateutil>=2.8.2->pandas) (1.16.0)\n",
            "Requirement already satisfied: sympy in /usr/local/lib/python3.10/dist-packages (from torch>=1.11.0->sentence-transformers) (1.13.3)\n",
            "Requirement already satisfied: networkx in /usr/local/lib/python3.10/dist-packages (from torch>=1.11.0->sentence-transformers) (3.3)\n",
            "Requirement already satisfied: jinja2 in /usr/local/lib/python3.10/dist-packages (from torch>=1.11.0->sentence-transformers) (3.1.4)\n",
            "Requirement already satisfied: regex!=2019.12.17 in /usr/local/lib/python3.10/dist-packages (from transformers<5.0.0,>=4.41.0->sentence-transformers) (2024.9.11)\n",
            "Requirement already satisfied: safetensors>=0.4.1 in /usr/local/lib/python3.10/dist-packages (from transformers<5.0.0,>=4.41.0->sentence-transformers) (0.4.5)\n",
            "Requirement already satisfied: tokenizers<0.20,>=0.19 in /usr/local/lib/python3.10/dist-packages (from transformers<5.0.0,>=4.41.0->sentence-transformers) (0.19.1)\n",
            "Requirement already satisfied: joblib>=1.2.0 in /usr/local/lib/python3.10/dist-packages (from scikit-learn->sentence-transformers) (1.4.2)\n",
            "Requirement already satisfied: threadpoolctl>=3.1.0 in /usr/local/lib/python3.10/dist-packages (from scikit-learn->sentence-transformers) (3.5.0)\n",
            "Requirement already satisfied: MarkupSafe>=2.0 in /usr/local/lib/python3.10/dist-packages (from jinja2->torch>=1.11.0->sentence-transformers) (2.1.5)\n",
            "Requirement already satisfied: charset-normalizer<4,>=2 in /usr/local/lib/python3.10/dist-packages (from requests->huggingface-hub>=0.20.0->sentence-transformers) (3.3.2)\n",
            "Requirement already satisfied: idna<4,>=2.5 in /usr/local/lib/python3.10/dist-packages (from requests->huggingface-hub>=0.20.0->sentence-transformers) (3.10)\n",
            "Requirement already satisfied: urllib3<3,>=1.21.1 in /usr/local/lib/python3.10/dist-packages (from requests->huggingface-hub>=0.20.0->sentence-transformers) (2.2.3)\n",
            "Requirement already satisfied: certifi>=2017.4.17 in /usr/local/lib/python3.10/dist-packages (from requests->huggingface-hub>=0.20.0->sentence-transformers) (2024.8.30)\n",
            "Requirement already satisfied: mpmath<1.4,>=1.1.0 in /usr/local/lib/python3.10/dist-packages (from sympy->torch>=1.11.0->sentence-transformers) (1.3.0)\n",
            "Downloading sentence_transformers-3.2.0-py3-none-any.whl (255 kB)\n",
            "\u001b[2K   \u001b[90m━━━━━━━━━━━━━━━━━━━━━━━━━━━━━━━━━━━━━━━━\u001b[0m \u001b[32m255.2/255.2 kB\u001b[0m \u001b[31m6.3 MB/s\u001b[0m eta \u001b[36m0:00:00\u001b[0m\n",
            "\u001b[?25hDownloading faiss_cpu-1.9.0-cp310-cp310-manylinux_2_17_x86_64.manylinux2014_x86_64.whl (27.5 MB)\n",
            "\u001b[2K   \u001b[90m━━━━━━━━━━━━━━━━━━━━━━━━━━━━━━━━━━━━━━━━\u001b[0m \u001b[32m27.5/27.5 MB\u001b[0m \u001b[31m37.1 MB/s\u001b[0m eta \u001b[36m0:00:00\u001b[0m\n",
            "\u001b[?25hDownloading dill-0.3.9-py3-none-any.whl (119 kB)\n",
            "\u001b[2K   \u001b[90m━━━━━━━━━━━━━━━━━━━━━━━━━━━━━━━━━━━━━━━━\u001b[0m \u001b[32m119.4/119.4 kB\u001b[0m \u001b[31m9.4 MB/s\u001b[0m eta \u001b[36m0:00:00\u001b[0m\n",
            "\u001b[?25hBuilding wheels for collected packages: pandarallel\n",
            "  Building wheel for pandarallel (setup.py) ... \u001b[?25l\u001b[?25hdone\n",
            "  Created wheel for pandarallel: filename=pandarallel-1.6.5-py3-none-any.whl size=16675 sha256=ae1ce90bccd605323f7009cdcac5f974cc03f2e32fd01234eb8ed9a0dc3d5a1e\n",
            "  Stored in directory: /root/.cache/pip/wheels/50/4f/1e/34e057bb868842209f1623f195b74fd7eda229308a7352d47f\n",
            "Successfully built pandarallel\n",
            "Installing collected packages: faiss-cpu, dill, pandarallel, sentence-transformers\n",
            "Successfully installed dill-0.3.9 faiss-cpu-1.9.0 pandarallel-1.6.5 sentence-transformers-3.2.0\n"
          ]
        }
      ]
    },
    {
      "cell_type": "code",
      "source": [
        "import faiss"
      ],
      "metadata": {
        "id": "Uu52UMph8__6"
      },
      "execution_count": 9,
      "outputs": []
    },
    {
      "cell_type": "code",
      "source": [
        "vector_dim = len(document_vectors[0])\n",
        "#checkpoint\n",
        "print (vector_dim)\n",
        "index = faiss.IndexFlatL2(vector_dim)\n",
        "vectors_np = np.array(document_vectors).astype('float32')"
      ],
      "metadata": {
        "colab": {
          "base_uri": "https://localhost:8080/"
        },
        "id": "YhzC19S59FTA",
        "outputId": "ac08f7f3-2a05-4652-fa4f-bd7c3da3598e"
      },
      "execution_count": 10,
      "outputs": [
        {
          "output_type": "stream",
          "name": "stdout",
          "text": [
            "20\n"
          ]
        }
      ]
    }
  ]
}