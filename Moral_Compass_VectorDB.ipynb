{
  "nbformat": 4,
  "nbformat_minor": 0,
  "metadata": {
    "colab": {
      "provenance": [],
      "mount_file_id": "1YavZ7UmFBnaozWz-74MbjWAI5Q994wdT",
      "authorship_tag": "ABX9TyNopb+jh5sbRnL3YO36vw+w",
      "include_colab_link": true
    },
    "kernelspec": {
      "name": "python3",
      "display_name": "Python 3"
    },
    "language_info": {
      "name": "python"
    }
  },
  "cells": [
    {
      "cell_type": "markdown",
      "metadata": {
        "id": "view-in-github",
        "colab_type": "text"
      },
      "source": [
        "<a href=\"https://colab.research.google.com/github/g-aditi/moral-compass/blob/Nihaarika/Moral_Compass_VectorDB.ipynb\" target=\"_parent\"><img src=\"https://colab.research.google.com/assets/colab-badge.svg\" alt=\"Open In Colab\"/></a>"
      ]
    },
    {
      "cell_type": "code",
      "execution_count": 2,
      "metadata": {
        "colab": {
          "base_uri": "https://localhost:8080/"
        },
        "id": "ldGtbszvht7K",
        "outputId": "460793dc-084f-4ff1-ac4b-1796e7cc5ec4"
      },
      "outputs": [
        {
          "output_type": "stream",
          "name": "stdout",
          "text": [
            "Collecting PyPDF2\n",
            "  Downloading pypdf2-3.0.1-py3-none-any.whl.metadata (6.8 kB)\n",
            "Downloading pypdf2-3.0.1-py3-none-any.whl (232 kB)\n",
            "\u001b[?25l   \u001b[90m━━━━━━━━━━━━━━━━━━━━━━━━━━━━━━━━━━━━━━━━\u001b[0m \u001b[32m0.0/232.6 kB\u001b[0m \u001b[31m?\u001b[0m eta \u001b[36m-:--:--\u001b[0m\r\u001b[2K   \u001b[91m━━━━━━━━━━━━━━━━━━━━━━━━━━\u001b[0m\u001b[90m╺\u001b[0m\u001b[90m━━━━━━━━━━━━━\u001b[0m \u001b[32m153.6/232.6 kB\u001b[0m \u001b[31m4.4 MB/s\u001b[0m eta \u001b[36m0:00:01\u001b[0m\r\u001b[2K   \u001b[90m━━━━━━━━━━━━━━━━━━━━━━━━━━━━━━━━━━━━━━━━\u001b[0m \u001b[32m232.6/232.6 kB\u001b[0m \u001b[31m3.9 MB/s\u001b[0m eta \u001b[36m0:00:00\u001b[0m\n",
            "\u001b[?25hInstalling collected packages: PyPDF2\n",
            "Successfully installed PyPDF2-3.0.1\n"
          ]
        }
      ],
      "source": [
        "pip install PyPDF2"
      ]
    },
    {
      "cell_type": "code",
      "source": [
        "import PyPDF2\n",
        "import pandas as pd\n",
        "import numpy as np\n",
        "import os\n",
        "from gensim.models.doc2vec import Doc2Vec, TaggedDocument\n",
        "from nltk.tokenize import word_tokenize\n",
        "import nltk\n",
        "nltk.download('punkt')"
      ],
      "metadata": {
        "colab": {
          "base_uri": "https://localhost:8080/"
        },
        "id": "mZ-EFUX7i4zm",
        "outputId": "a6591369-e2d3-4d3c-8594-4cbf9b0f07c3"
      },
      "execution_count": 3,
      "outputs": [
        {
          "output_type": "stream",
          "name": "stderr",
          "text": [
            "[nltk_data] Downloading package punkt to /root/nltk_data...\n",
            "[nltk_data]   Unzipping tokenizers/punkt.zip.\n"
          ]
        },
        {
          "output_type": "execute_result",
          "data": {
            "text/plain": [
              "True"
            ]
          },
          "metadata": {},
          "execution_count": 3
        }
      ]
    },
    {
      "cell_type": "code",
      "source": [
        "def pdf_to_text(pdf_data_directory, txt_data_directory):\n",
        "    # Converting pdf version paper to txt file\n",
        "\n",
        "    if not os.path.exists(txt_data_directory):\n",
        "        os.makedirs(txt_data_directory)\n",
        "\n",
        "    for pdf_filename in os.listdir(pdf_data_directory):\n",
        "\n",
        "        if pdf_filename.endswith(\".pdf\"):\n",
        "\n",
        "            pdf_path = os.path.join(pdf_data_directory, pdf_filename)\n",
        "            #checkpoint\n",
        "            print (pdf_filename)\n",
        "            txt_filename = os.path.splitext(pdf_filename)[0] + \".txt\"\n",
        "            txt_path = os.path.join(txt_data_directory, txt_filename)\n",
        "\n",
        "            with open(pdf_path, \"rb\") as pdf_file:\n",
        "                pdf_reader = PyPDF2.PdfReader(pdf_file)\n",
        "                text = \"\"\n",
        "                for page_num in range(len(pdf_reader.pages)):\n",
        "                    page = pdf_reader.pages[page_num]\n",
        "                    text += page.extract_text()\n",
        "\n",
        "                with open(txt_path, \"w\", encoding=\"utf-8\") as txt_file:\n",
        "                    txt_file.write(text)\n",
        "\n",
        "pdf_data_directory = \"/content/sample_data/MoralCompass_Papers_VDB_pdf\"\n",
        "txt_data_directory = \"/content/sample_data/MoralCompass_Papers_VDB_txt\"\n",
        "pdf_to_text(pdf_data_directory, txt_data_directory)\n",
        "\n"
      ],
      "metadata": {
        "colab": {
          "base_uri": "https://localhost:8080/"
        },
        "id": "TvIhJ5emjSZ3",
        "outputId": "266f8e7e-5f88-4f83-85d0-1154efac82c1"
      },
      "execution_count": 15,
      "outputs": [
        {
          "output_type": "stream",
          "name": "stdout",
          "text": [
            "the-belmont-report-508c_FINAL.pdf\n",
            "Subpart E — Registration of Institutional Review Boards _ HHS.gov.pdf\n",
            "Subpart C — Additional Protections Pertaining to Biomedical and B _ HHS.gov.pdf\n",
            "Annotated Comparison of the Pre-2018 Common Rule with _ HHS.gov.pdf\n",
            "Terminology _ HHS.gov.pdf\n",
            "Human Subject Regulations Decision Charts_ 2018 Requirements _ HHS.gov.pdf\n",
            "November 21, 2019_ Determination of Exception for Certain HHS _ HHS.gov.pdf\n",
            "Pre-2018 Requirements _ HHS.gov.pdf\n",
            "Single IRB Exception Determinations _ HHS.gov.pdf\n",
            "eCFR __ 45 CFR Part 46 (July 19, 2018) -- Protection of Human Subjects.pdf\n",
            "466535.pdf\n",
            "Revised Common Rule _ HHS.gov.pdf\n",
            "32843821.pdf\n",
            "Subpart D — Additional Protections for Children Involved _ HHS.gov.pdf\n",
            "Excerpts from the January 19, 2017 Revised Common Rule Preamble _ HHS.gov.pdf\n",
            "Procedures-for-HSR-2022.pdf\n",
            "Human Subject Regulations Decision Charts_ Pre-2018 Requirements _ HHS.gov.pdf\n",
            "Subpart B - Additional Protections for Pregnant Women, Human _ HHS.gov.pdf\n",
            "OHRP Expedited Review Categories (1998) _ HHS.gov.pdf\n",
            "October 8, 2020_ Exception to the Single IRB Review Requirements _ HHS.gov.pdf\n",
            "Exemptions (2018 Requirements) _ HHS.gov.pdf\n"
          ]
        }
      ]
    },
    {
      "cell_type": "code",
      "source": [
        "# training a document vectorizer model\n",
        "\n",
        "txt_data_directory = \"/content/sample_data/MoralCompass_Papers_VDB_txt\"\n",
        "txt_file_paths = [os.path.join(txt_data_directory, file) for file in os.listdir(txt_data_directory) if file.endswith('.txt')]\n",
        "tagged_data = []\n",
        "for i, txt_file_path in enumerate(txt_file_paths):\n",
        "    with open(txt_file_path, 'r', encoding='utf-8') as file:\n",
        "         text = file.read()\n",
        "         words = word_tokenize(text)\n",
        "         words = [word.lower() for word in words]\n",
        "         tagged_data.append(TaggedDocument(words, tags=['doc_' + str(i)]))\n",
        "         model = Doc2Vec(vector_size=20, epochs=300)\n",
        "         model.build_vocab(tagged_data)\n",
        "         model.train(tagged_data, total_examples=model.corpus_count, epochs=model.epochs)\n",
        "\n",
        "document_vectors = [model.dv['doc_' + str(i)] for i in range(len(tagged_data))]\n",
        "#checkpoint\n",
        "print (document_vectors)"
      ],
      "metadata": {
        "colab": {
          "base_uri": "https://localhost:8080/"
        },
        "id": "ZcYJ9tAC0laj",
        "outputId": "9a13ca77-25d5-4d4c-a73c-2e308fdec8a5"
      },
      "execution_count": 18,
      "outputs": [
        {
          "output_type": "stream",
          "name": "stdout",
          "text": [
            "[array([-1.8662444 ,  0.5307063 ,  0.2298599 ,  1.8381761 ,  0.9464375 ,\n",
            "        1.4622895 , -0.55958086, -0.8884981 , -4.260886  , -1.7389991 ,\n",
            "        0.6425447 ,  1.3934507 , -1.3328843 ,  0.7960754 , -2.1334176 ,\n",
            "        0.7252287 ,  4.424612  , -1.2089963 , -2.0054047 , -1.0875001 ],\n",
            "      dtype=float32), array([-3.0624354 , -6.959306  , -0.8113659 ,  1.7420998 , -3.019377  ,\n",
            "        0.1592336 , -3.9212346 , -0.6054859 ,  2.485858  , -1.7885183 ,\n",
            "        2.091048  ,  3.3359594 , -4.250892  , -0.35127908, -5.400684  ,\n",
            "        0.44479668,  2.146578  ,  3.9900775 , -4.816547  ,  2.6008701 ],\n",
            "      dtype=float32), array([ -1.3399322 , -11.827755  ,  -0.17848131,   0.97681904,\n",
            "        -4.2431917 ,   1.0926656 ,  -1.7549692 ,   2.3094811 ,\n",
            "         2.0618014 ,  -0.75689465,   1.0766501 ,   7.9966316 ,\n",
            "        -5.6240134 ,   2.3998873 ,  -9.4388075 ,   0.53911144,\n",
            "         2.750464  ,   2.7980878 ,  -2.8580332 ,   4.594814  ],\n",
            "      dtype=float32), array([ 4.4670148e+00,  7.1317816e+00, -9.4692206e-01,  7.7037001e-01,\n",
            "       -4.3590641e+00,  9.5192986e+00,  7.8402348e-02, -2.3405480e-01,\n",
            "       -1.0058693e+01,  4.3915486e+00, -2.8333380e+00, -3.2355375e+00,\n",
            "       -8.5133610e+00, -5.2340064e+00, -5.0669580e+00, -6.1403774e-03,\n",
            "        7.5687778e-01, -1.3327360e+00, -3.0878499e+00, -2.5181608e+00],\n",
            "      dtype=float32), array([ -6.0585027 ,  12.3159895 ,  -5.573977  ,   3.6255476 ,\n",
            "        -6.4166346 ,  -3.6526556 ,   2.5874841 ,   2.0333195 ,\n",
            "        -8.4120035 ,  -4.848607  ,   2.7934904 ,  -2.165985  ,\n",
            "       -12.771141  ,  -0.382167  ,  -1.1667204 ,  -3.3447104 ,\n",
            "        -3.2745192 ,   4.7521844 ,  -7.7653356 ,  -0.24090675],\n",
            "      dtype=float32), array([-1.6834449 ,  2.546172  , -0.64395803,  1.5299385 , -2.2488434 ,\n",
            "       -1.8868856 , -1.7238148 , -0.58474886, -7.2194276 , -4.701073  ,\n",
            "       -2.7174337 ,  2.2235072 , -1.931806  ,  1.0774214 ,  4.0814385 ,\n",
            "        1.703297  ,  5.65942   ,  2.9285014 , -3.426664  ,  2.2010677 ],\n",
            "      dtype=float32), array([-1.5574301 , -9.251343  , -1.7456907 ,  0.86425006, -4.5789213 ,\n",
            "        1.2005394 , -2.0656538 ,  1.9474554 ,  2.7755082 , -1.5476351 ,\n",
            "        1.8367286 ,  4.901737  , -4.666468  ,  2.3119771 , -7.840276  ,\n",
            "       -0.20203951,  3.6585586 ,  1.6349853 , -4.059643  ,  4.0241537 ],\n",
            "      dtype=float32), array([-2.0566847 , -2.5573337 , -1.3491656 , -1.0763178 ,  9.331402  ,\n",
            "        1.9420624 , -1.6321545 ,  0.68068933, -1.472605  ,  1.8140217 ,\n",
            "        1.8187518 ,  1.7181064 , -3.6880348 , -7.2139916 , -1.6563388 ,\n",
            "        0.6179883 ,  1.5822872 , -0.08148821, -2.7773964 , -3.1372256 ],\n",
            "      dtype=float32), array([-0.43800429,  3.982746  ,  0.5265235 ,  2.5114625 , -0.7033922 ,\n",
            "       -2.1709208 , -0.9342069 ,  0.06950685, -8.075115  , -4.1479383 ,\n",
            "       -0.4095678 , -0.19443217, -1.8707117 ,  2.4168382 ,  2.0076406 ,\n",
            "        0.8007415 ,  4.6120505 ,  0.1573533 , -4.0876126 , -0.39649624],\n",
            "      dtype=float32), array([-6.72855   , -8.451378  , -1.4172437 ,  2.1460092 , -1.0932263 ,\n",
            "       -2.0685363 , -7.359642  , -1.0867246 , -6.8392963 , -2.3582969 ,\n",
            "        1.0094568 ,  3.3166606 , -2.2209342 ,  0.66986996, -0.403057  ,\n",
            "        3.647238  ,  6.0209517 , -0.860762  ,  1.0045451 , -1.8927171 ],\n",
            "      dtype=float32), array([-2.0687184 , -1.2312908 , -1.4493812 ,  0.50822717,  6.8878393 ,\n",
            "        0.0885573 , -0.8924166 , -0.4831903 , -0.7301187 ,  1.2462038 ,\n",
            "        1.9262936 ,  1.2591895 , -2.5537124 , -5.6424985 , -0.72018063,\n",
            "       -0.5634327 ,  0.7080703 ,  0.9677896 , -3.9247224 , -2.721488  ],\n",
            "      dtype=float32), array([-4.8520207 ,  1.3808438 , -0.94629234,  1.9515965 ,  1.8968984 ,\n",
            "       -2.9689252 , -3.5527666 , -2.6754327 , -0.5544988 , -0.4841789 ,\n",
            "        3.2309058 ,  0.41526267, -2.6735609 , -4.7921343 ,  0.16316131,\n",
            "       -1.5796714 , -2.3943415 ,  3.1897118 , -6.6286583 , -2.071176  ],\n",
            "      dtype=float32), array([ 4.879418  , -6.7293477 , -5.267789  ,  4.5660877 , -2.323112  ,\n",
            "        3.4057887 ,  0.6021613 ,  5.017934  , -1.7395791 , -0.63894916,\n",
            "       -0.3310399 ,  1.1717899 ,  1.2930948 , -2.2595065 , -4.8012986 ,\n",
            "       -0.6145674 ,  4.484897  ,  1.503699  ,  2.2613668 , -2.1166213 ],\n",
            "      dtype=float32), array([-1.8993144 , -1.4080726 , -1.2740387 ,  3.6053197 ,  2.4206462 ,\n",
            "       -1.7046449 , -1.165324  , -0.97027665, -0.20694955, -1.1565815 ,\n",
            "        1.734194  ,  1.6861569 , -1.1437454 , -3.082979  ,  0.05309263,\n",
            "       -0.65534556,  0.49641564,  2.3235734 , -3.5167818 , -2.4296293 ],\n",
            "      dtype=float32), array([-2.4062488 , -3.302403  ,  0.36655626,  1.6169376 ,  8.8340025 ,\n",
            "       -0.621141  , -0.5161071 ,  1.2321274 , -2.967742  ,  1.7847061 ,\n",
            "       -0.5132764 ,  2.0812094 , -3.065309  , -5.454167  ,  0.25797015,\n",
            "        1.5959111 ,  3.1210272 , -1.9959588 , -3.4351096 , -2.7162871 ],\n",
            "      dtype=float32), array([-3.2937486 , -0.9476063 , -1.6716741 , -1.1070882 ,  7.519157  ,\n",
            "        0.8764502 , -2.8545241 , -0.18605456,  0.15937985,  0.43696162,\n",
            "        2.4930003 ,  1.0990777 , -2.6626298 , -7.7894063 , -2.4317608 ,\n",
            "       -0.91046244,  0.5512569 ,  1.503105  , -4.3746753 , -3.1408944 ],\n",
            "      dtype=float32), array([-2.493744 , -5.366326 , -1.7681264,  3.3478363, -2.772109 ,\n",
            "       -1.3441225, -0.3745416, -2.7495985,  0.5520393,  0.0446918,\n",
            "        1.7444583,  3.4643257, -3.6877863, -1.0805258, -5.5998497,\n",
            "        2.8322227,  0.6738566,  3.3255622, -3.6450896, -1.8685503],\n",
            "      dtype=float32), array([-1.6252117 ,  1.0086656 , -1.084464  , -0.7953032 ,  8.287161  ,\n",
            "        1.6855336 , -0.5616544 , -0.4433838 , -1.8613794 ,  2.7533507 ,\n",
            "        1.0902432 ,  0.49966934, -4.5138497 , -7.4673324 , -1.978466  ,\n",
            "       -0.61632717,  1.4010804 ,  1.502405  , -4.0267673 , -2.7549982 ],\n",
            "      dtype=float32), array([-5.2355304 , -6.76168   , -0.5477619 ,  0.92496115,  0.893611  ,\n",
            "       -0.56434524, -4.212655  , -0.23325174, -7.9139056 , -1.5361105 ,\n",
            "        0.884583  ,  2.681868  , -3.1479099 ,  1.7872539 , -0.7373416 ,\n",
            "        4.6831484 ,  7.3951526 , -3.154906  ,  0.69492155, -2.6629817 ],\n",
            "      dtype=float32), array([-3.959727  , -1.1424651 , -0.04325111,  3.5742464 ,  1.2365396 ,\n",
            "       -2.3656719 , -3.3402631 , -0.75869465, -2.4525752 , -2.071875  ,\n",
            "        2.232967  ,  1.4364576 , -1.4966223 , -2.0558496 , -0.48277313,\n",
            "       -1.4615163 ,  0.7606408 ,  1.9975352 , -3.011222  , -2.6742396 ],\n",
            "      dtype=float32), array([ 3.2784505 , -6.7200465 , -1.641737  ,  0.9623278 , -5.3802958 ,\n",
            "        3.7771695 , -0.887967  ,  3.9530818 ,  0.05645019,  0.44567227,\n",
            "        1.3298256 ,  7.2729225 ,  1.5945956 , -0.52268857, -5.223722  ,\n",
            "       -0.13901572,  3.8619819 ,  3.7563388 , -2.1607032 , -0.589405  ],\n",
            "      dtype=float32)]\n"
          ]
        }
      ]
    },
    {
      "cell_type": "code",
      "source": [
        "!pip install pandas sentence-transformers pandarallel faiss-cpu\n",
        "\n"
      ],
      "metadata": {
        "colab": {
          "base_uri": "https://localhost:8080/"
        },
        "id": "XjjMLVGA3rOD",
        "outputId": "ec878306-0366-4954-9e17-85ccbccd3794"
      },
      "execution_count": 19,
      "outputs": [
        {
          "output_type": "stream",
          "name": "stdout",
          "text": [
            "Requirement already satisfied: pandas in /usr/local/lib/python3.10/dist-packages (2.2.2)\n",
            "Requirement already satisfied: sentence-transformers in /usr/local/lib/python3.10/dist-packages (3.1.1)\n",
            "Requirement already satisfied: pandarallel in /usr/local/lib/python3.10/dist-packages (1.6.5)\n",
            "Requirement already satisfied: faiss-cpu in /usr/local/lib/python3.10/dist-packages (1.8.0.post1)\n",
            "Requirement already satisfied: numpy>=1.22.4 in /usr/local/lib/python3.10/dist-packages (from pandas) (1.26.4)\n",
            "Requirement already satisfied: python-dateutil>=2.8.2 in /usr/local/lib/python3.10/dist-packages (from pandas) (2.8.2)\n",
            "Requirement already satisfied: pytz>=2020.1 in /usr/local/lib/python3.10/dist-packages (from pandas) (2024.2)\n",
            "Requirement already satisfied: tzdata>=2022.7 in /usr/local/lib/python3.10/dist-packages (from pandas) (2024.2)\n",
            "Requirement already satisfied: transformers<5.0.0,>=4.38.0 in /usr/local/lib/python3.10/dist-packages (from sentence-transformers) (4.44.2)\n",
            "Requirement already satisfied: tqdm in /usr/local/lib/python3.10/dist-packages (from sentence-transformers) (4.66.5)\n",
            "Requirement already satisfied: torch>=1.11.0 in /usr/local/lib/python3.10/dist-packages (from sentence-transformers) (2.4.1+cu121)\n",
            "Requirement already satisfied: scikit-learn in /usr/local/lib/python3.10/dist-packages (from sentence-transformers) (1.5.2)\n",
            "Requirement already satisfied: scipy in /usr/local/lib/python3.10/dist-packages (from sentence-transformers) (1.13.1)\n",
            "Requirement already satisfied: huggingface-hub>=0.19.3 in /usr/local/lib/python3.10/dist-packages (from sentence-transformers) (0.24.7)\n",
            "Requirement already satisfied: Pillow in /usr/local/lib/python3.10/dist-packages (from sentence-transformers) (10.4.0)\n",
            "Requirement already satisfied: dill>=0.3.1 in /usr/local/lib/python3.10/dist-packages (from pandarallel) (0.3.9)\n",
            "Requirement already satisfied: psutil in /usr/local/lib/python3.10/dist-packages (from pandarallel) (5.9.5)\n",
            "Requirement already satisfied: packaging in /usr/local/lib/python3.10/dist-packages (from faiss-cpu) (24.1)\n",
            "Requirement already satisfied: filelock in /usr/local/lib/python3.10/dist-packages (from huggingface-hub>=0.19.3->sentence-transformers) (3.16.1)\n",
            "Requirement already satisfied: fsspec>=2023.5.0 in /usr/local/lib/python3.10/dist-packages (from huggingface-hub>=0.19.3->sentence-transformers) (2024.6.1)\n",
            "Requirement already satisfied: pyyaml>=5.1 in /usr/local/lib/python3.10/dist-packages (from huggingface-hub>=0.19.3->sentence-transformers) (6.0.2)\n",
            "Requirement already satisfied: requests in /usr/local/lib/python3.10/dist-packages (from huggingface-hub>=0.19.3->sentence-transformers) (2.32.3)\n",
            "Requirement already satisfied: typing-extensions>=3.7.4.3 in /usr/local/lib/python3.10/dist-packages (from huggingface-hub>=0.19.3->sentence-transformers) (4.12.2)\n",
            "Requirement already satisfied: six>=1.5 in /usr/local/lib/python3.10/dist-packages (from python-dateutil>=2.8.2->pandas) (1.16.0)\n",
            "Requirement already satisfied: sympy in /usr/local/lib/python3.10/dist-packages (from torch>=1.11.0->sentence-transformers) (1.13.3)\n",
            "Requirement already satisfied: networkx in /usr/local/lib/python3.10/dist-packages (from torch>=1.11.0->sentence-transformers) (3.3)\n",
            "Requirement already satisfied: jinja2 in /usr/local/lib/python3.10/dist-packages (from torch>=1.11.0->sentence-transformers) (3.1.4)\n",
            "Requirement already satisfied: regex!=2019.12.17 in /usr/local/lib/python3.10/dist-packages (from transformers<5.0.0,>=4.38.0->sentence-transformers) (2024.9.11)\n",
            "Requirement already satisfied: safetensors>=0.4.1 in /usr/local/lib/python3.10/dist-packages (from transformers<5.0.0,>=4.38.0->sentence-transformers) (0.4.5)\n",
            "Requirement already satisfied: tokenizers<0.20,>=0.19 in /usr/local/lib/python3.10/dist-packages (from transformers<5.0.0,>=4.38.0->sentence-transformers) (0.19.1)\n",
            "Requirement already satisfied: joblib>=1.2.0 in /usr/local/lib/python3.10/dist-packages (from scikit-learn->sentence-transformers) (1.4.2)\n",
            "Requirement already satisfied: threadpoolctl>=3.1.0 in /usr/local/lib/python3.10/dist-packages (from scikit-learn->sentence-transformers) (3.5.0)\n",
            "Requirement already satisfied: MarkupSafe>=2.0 in /usr/local/lib/python3.10/dist-packages (from jinja2->torch>=1.11.0->sentence-transformers) (2.1.5)\n",
            "Requirement already satisfied: charset-normalizer<4,>=2 in /usr/local/lib/python3.10/dist-packages (from requests->huggingface-hub>=0.19.3->sentence-transformers) (3.3.2)\n",
            "Requirement already satisfied: idna<4,>=2.5 in /usr/local/lib/python3.10/dist-packages (from requests->huggingface-hub>=0.19.3->sentence-transformers) (3.10)\n",
            "Requirement already satisfied: urllib3<3,>=1.21.1 in /usr/local/lib/python3.10/dist-packages (from requests->huggingface-hub>=0.19.3->sentence-transformers) (2.2.3)\n",
            "Requirement already satisfied: certifi>=2017.4.17 in /usr/local/lib/python3.10/dist-packages (from requests->huggingface-hub>=0.19.3->sentence-transformers) (2024.8.30)\n",
            "Requirement already satisfied: mpmath<1.4,>=1.1.0 in /usr/local/lib/python3.10/dist-packages (from sympy->torch>=1.11.0->sentence-transformers) (1.3.0)\n"
          ]
        }
      ]
    },
    {
      "cell_type": "code",
      "source": [
        "import faiss"
      ],
      "metadata": {
        "id": "Uu52UMph8__6"
      },
      "execution_count": 20,
      "outputs": []
    },
    {
      "cell_type": "code",
      "source": [
        "vector_dim = len(document_vectors[0])\n",
        "#checkpoint\n",
        "print (vector_dim)\n",
        "index = faiss.IndexFlatL2(vector_dim)\n",
        "vectors_np = np.array(document_vectors).astype('float32')"
      ],
      "metadata": {
        "colab": {
          "base_uri": "https://localhost:8080/"
        },
        "id": "YhzC19S59FTA",
        "outputId": "7987c8ea-7376-4b09-bd73-cfb5d216ad06"
      },
      "execution_count": 22,
      "outputs": [
        {
          "output_type": "stream",
          "name": "stdout",
          "text": [
            "20\n"
          ]
        }
      ]
    }
  ]
}